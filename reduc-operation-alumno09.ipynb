{
 "cells": [
  {
   "cell_type": "markdown",
   "id": "1ffdbb7a-8721-4916-9fc7-733003f7d72c",
   "metadata": {},
   "source": [
    "### ALUMNO09 - DANIEL GONZALEZ PALAZON\n",
    "\n",
    "### Ejercicio 3.1"
   ]
  },
  {
   "cell_type": "markdown",
   "id": "b2f0d9b1-bf60-44b7-b0c8-1b793dfb6d35",
   "metadata": {},
   "source": [
    "### Reduction operation: the sum of the numbers in the range [0, a)"
   ]
  },
  {
   "cell_type": "code",
   "execution_count": 12,
   "id": "496946fa-2a28-4c1d-8a6a-2ee0b8fd8ced",
   "metadata": {},
   "outputs": [
    {
     "name": "stdout",
     "output_type": "stream",
     "text": [
      "The history saving thread hit an unexpected error (OperationalError('attempt to write a readonly database')).History will not be written to the database.\n",
      "Time taken by reduction operation: 0.2705988883972168 seconds\n",
      "264 ms ± 1.41 ms per loop (mean ± std. dev. of 2 runs, 1 loop each)\n",
      "\n",
      " \t Computing the sum of numbers in the range [0, value): 499999500000\n",
      "\n"
     ]
    }
   ],
   "source": [
    "import time\n",
    "\n",
    "def reduc_operation(a):\n",
    "    \"\"\"Compute the sum of the numbers in the range [0, a).\"\"\"\n",
    "    x = 0\n",
    "    for i in range(a):\n",
    "        x += i\n",
    "    return x\n",
    "\n",
    "# Secuencial\n",
    "\n",
    "value = 1000000\n",
    "\n",
    "initialTime = time.time()\n",
    "suma = reduc_operation(value)\n",
    "finalTime = time.time()\n",
    "\n",
    "print(\"Time taken by reduction operation:\", (finalTime - initialTime), \"seconds\")\n",
    "\n",
    "# Utilizando las operaciones mágicas de ipython\n",
    "%timeit -r 2 reduc_operation(value)\n",
    "\n",
    "print(f\"\\n \\t Computing the sum of numbers in the range [0, value): {suma}\\n\")"
   ]
  },
  {
   "cell_type": "code",
   "execution_count": 10,
   "id": "489c19ec-ed75-4dea-968d-4f11dbe051ca",
   "metadata": {},
   "outputs": [
    {
     "name": "stdout",
     "output_type": "stream",
     "text": [
      "Bucle for:   total=499999500000, tiempo=0.4389 s\n",
      "sum(lst):    total=499999500000, tiempo=0.0319 s\n"
     ]
    }
   ],
   "source": [
    "# — Ejercicio 3.2 a) —  \n",
    "import time\n",
    "\n",
    "# Crear la lista de Python con 10**6 elementos\n",
    "n = 10**6\n",
    "lst = list(range(n))\n",
    "\n",
    "# a) Medir con bucle for\n",
    "start = time.time()\n",
    "total_for = 0\n",
    "for x in lst:\n",
    "    total_for += x\n",
    "elapsed_for = time.time() - start\n",
    "\n",
    "print(f\"Bucle for:   total={total_for}, tiempo={elapsed_for:.4f} s\")\n",
    "\n",
    "# b) Medir con sum()\n",
    "start = time.time()\n",
    "total_sum = sum(lst)\n",
    "elapsed_sum = time.time() - start\n",
    "\n",
    "print(f\"sum(lst):    total={total_sum}, tiempo={elapsed_sum:.4f} s\")\n"
   ]
  },
  {
   "cell_type": "code",
   "execution_count": 11,
   "id": "de04350e-68dd-42f4-83cc-201df2dd7a3b",
   "metadata": {},
   "outputs": [
    {
     "name": "stdout",
     "output_type": "stream",
     "text": [
      "Bucle for NumPy:   total=499999500000, tiempo=0.9469 s\n",
      "np.sum(arr):       total=499999500000, tiempo=0.0029 s\n"
     ]
    }
   ],
   "source": [
    "# — Ejercicio 3.2 b) —  \n",
    "import time\n",
    "import numpy as np\n",
    "\n",
    "# Convertir la lista a un array de NumPy\n",
    "arr = np.array(lst)\n",
    "\n",
    "# a) Medir con bucle for sobre el array\n",
    "start = time.time()\n",
    "total_for_np = 0\n",
    "for x in arr:\n",
    "    total_for_np += x\n",
    "elapsed_for_np = time.time() - start\n",
    "\n",
    "print(f\"Bucle for NumPy:   total={total_for_np}, tiempo={elapsed_for_np:.4f} s\")\n",
    "\n",
    "# b) Medir con np.sum()\n",
    "start = time.time()\n",
    "total_sum_np = np.sum(arr)\n",
    "elapsed_sum_np = time.time() - start\n",
    "\n",
    "print(f\"np.sum(arr):       total={total_sum_np}, tiempo={elapsed_sum_np:.4f} s\")\n"
   ]
  },
  {
   "cell_type": "markdown",
   "id": "9e266825-1703-4c43-9261-1f4e0cd190e9",
   "metadata": {},
   "source": [
    "### 3.2 c) Análisis de resultados\n",
    "\n",
    "Al ejecutar los tres procedimientos de suma en el rango \\[0, 10<sup>6</sup>), hemos obtenido estos tiempos aproximados:\n",
    "\n",
    "| Método                              | Tiempo        |\n",
    "|-------------------------------------|---------------|\n",
    "| 1. Código original (`reduc_operation`)       | 0.27 s        |\n",
    "| 2.a. Bucle `for` sobre lista        | 0.44 s        |\n",
    "| 2.b. `sum(lst)`                     | 0.03 s        |\n",
    "| 3.a. Bucle `for` sobre `ndarray`    | 0.95 s        |\n",
    "| 3.b. `np.sum(arr)`                  | 0.003 s       |\n",
    "\n",
    "**Puntos clave:**\n",
    "\n",
    "1. **Código original vs. bucle sobre lista**  \n",
    "   - Ambos usan un bucle en Python puro para acumular elemento a elemento.  \n",
    "   - La función genérica `reduc_operation` sobre `range(a)` tarda ~0.28 s, mientras que la suma manual de `list(range(n))` tarda ~0.44 s.  \n",
    "   - La diferencia (~0.16 s) se debe al coste de creación de la lista completa antes de iterar y a la llamada a la función.\n",
    "\n",
    "2. **`sum(lst)`**  \n",
    "   - Implementada en C dentro del intérprete de Python, evita el bucle en Python y recorre la lista con código nativo.  \n",
    "   - Mejora el rendimiento en un orden de magnitud: de ~0.44 s a ~0.03 s.\n",
    "\n",
    "3. **Bucle `for` sobre `ndarray`**  \n",
    "   - Aunque el tipo de datos cambia, se sigue iterando en Python elemento a elemento, lo que introduce *más* overhead que con listas, porque cada acceso a un elemento de `ndarray` implica comprobaciones adicionales de NumPy.  \n",
    "   - Por eso la suma manual sobre `arr = np.array(lst)` es aún más lenta (~0.95 s).\n",
    "\n",
    "4. **`np.sum(arr)`**  \n",
    "   - Ejecuta la operación de reducción íntegramente en C (y optimizado con vectores SIMD si el hardware lo permite), accediendo a memoria contigua.  \n",
    "   - Resultado: la ejecución es ultrarrápida (~0.003 s), casi 100× más rápida que `sum(lst)` y ~300× más rápida que el bucle Python sobre `ndarray`.\n",
    "\n",
    "---\n",
    "\n",
    "**Conclusión:**  \n",
    "- El principal cuello de botella en Python puro es el bucle interpretado elemento a elemento.  \n",
    "- Aprovechar implementaciones nativas (ya sea `sum()` para listas o `np.sum()` para arrays) traslada la carga al código compilado en C, consiguiendo enormes mejoras de rendimiento.\n"
   ]
  },
  {
   "cell_type": "code",
   "execution_count": null,
   "id": "d711644f-9dae-49f5-9857-30b6455e18a7",
   "metadata": {},
   "outputs": [],
   "source": []
  }
 ],
 "metadata": {
  "kernelspec": {
   "display_name": "Python 3 (ipykernel)",
   "language": "python",
   "name": "python3"
  },
  "language_info": {
   "codemirror_mode": {
    "name": "ipython",
    "version": 3
   },
   "file_extension": ".py",
   "mimetype": "text/x-python",
   "name": "python",
   "nbconvert_exporter": "python",
   "pygments_lexer": "ipython3",
   "version": "3.10.9"
  }
 },
 "nbformat": 4,
 "nbformat_minor": 5
}
