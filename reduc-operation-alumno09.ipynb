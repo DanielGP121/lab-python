{
 "cells": [
  {
   "cell_type": "markdown",
   "id": "1ffdbb7a-8721-4916-9fc7-733003f7d72c",
   "metadata": {},
   "source": [
    "### ALUMNO09 - DANIEL GONZALEZ PALAZON\n",
    "\n",
    "### Ejercicio 3.2"
   ]
  },
  {
   "cell_type": "markdown",
   "id": "b2f0d9b1-bf60-44b7-b0c8-1b793dfb6d35",
   "metadata": {},
   "source": [
    "### Reduction operation: the sum of the numbers in the range [0, a)"
   ]
  },
  {
   "cell_type": "code",
   "execution_count": 3,
   "id": "496946fa-2a28-4c1d-8a6a-2ee0b8fd8ced",
   "metadata": {},
   "outputs": [
    {
     "name": "stdout",
     "output_type": "stream",
     "text": [
      "Time taken by reduction operation: 0.2683451175689697 seconds\n",
      "229 ms ± 7.32 µs per loop (mean ± std. dev. of 2 runs, 1 loop each)\n",
      "\n",
      " \t Computing the sum of numbers in the range [0, value): 499999500000\n",
      "\n"
     ]
    }
   ],
   "source": [
    "import sys\n",
    "\n",
    "# Si se proporciona un argumento, lo toma; si no, usa 10**6 por defecto\n",
    "try:\n",
    "    value = int(sys.argv[1])\n",
    "except (IndexError, ValueError):\n",
    "    value = 10**6\n",
    "\n",
    "print(f\"Usando value = {value}\")\n",
    "\n",
    "\n",
    "import time\n",
    "\n",
    "def reduc_operation(a):\n",
    "    \"\"\"Compute the sum of the numbers in the range [0, a).\"\"\"\n",
    "    x = 0\n",
    "    for i in range(a):\n",
    "        x += i\n",
    "    return x\n",
    "\n",
    "initialTime = time.time()\n",
    "suma = reduc_operation(value)\n",
    "finalTime = time.time()\n",
    "\n",
    "print(\"Time taken by reduction operation:\", (finalTime - initialTime), \"seconds\")\n",
    "\n",
    "# Utilizando las operaciones mágicas de ipython\n",
    "%timeit -r 2 reduc_operation(value)\n",
    "\n",
    "print(f\"\\n \\t Computing the sum of numbers in the range [0, value): {suma}\\n\")"
   ]
  },
  {
   "cell_type": "code",
   "execution_count": 4,
   "id": "489c19ec-ed75-4dea-968d-4f11dbe051ca",
   "metadata": {},
   "outputs": [
    {
     "name": "stdout",
     "output_type": "stream",
     "text": [
      "Bucle for:   total=499999500000, tiempo=0.5357 s\n",
      "sum(lst):    total=499999500000, tiempo=0.0319 s\n"
     ]
    }
   ],
   "source": [
    "# — Ejercicio 3.2 a) —  \n",
    "import time\n",
    "\n",
    "# Crear la lista de Python con 10**6 elementos\n",
    "n = 10**6\n",
    "lst = list(range(n))\n",
    "\n",
    "# a) Medir con bucle for\n",
    "start = time.time()\n",
    "total_for = 0\n",
    "for x in lst:\n",
    "    total_for += x\n",
    "elapsed_for = time.time() - start\n",
    "\n",
    "print(f\"Bucle for:   total={total_for}, tiempo={elapsed_for:.4f} s\")\n",
    "\n",
    "# b) Medir con sum()\n",
    "start = time.time()\n",
    "total_sum = sum(lst)\n",
    "elapsed_sum = time.time() - start\n",
    "\n",
    "print(f\"sum(lst):    total={total_sum}, tiempo={elapsed_sum:.4f} s\")\n"
   ]
  },
  {
   "cell_type": "code",
   "execution_count": 5,
   "id": "de04350e-68dd-42f4-83cc-201df2dd7a3b",
   "metadata": {},
   "outputs": [
    {
     "name": "stdout",
     "output_type": "stream",
     "text": [
      "Bucle for NumPy:   total=499999500000, tiempo=0.9990 s\n",
      "np.sum(arr):       total=499999500000, tiempo=0.0025 s\n"
     ]
    }
   ],
   "source": [
    "# — Ejercicio 3.2 b) —  \n",
    "import time\n",
    "import numpy as np\n",
    "\n",
    "# Convertir la lista a un array de NumPy\n",
    "arr = np.array(lst)\n",
    "\n",
    "# a) Medir con bucle for sobre el array\n",
    "start = time.time()\n",
    "total_for_np = 0\n",
    "for x in arr:\n",
    "    total_for_np += x\n",
    "elapsed_for_np = time.time() - start\n",
    "\n",
    "print(f\"Bucle for NumPy:   total={total_for_np}, tiempo={elapsed_for_np:.4f} s\")\n",
    "\n",
    "# b) Medir con np.sum()\n",
    "start = time.time()\n",
    "total_sum_np = np.sum(arr)\n",
    "elapsed_sum_np = time.time() - start\n",
    "\n",
    "print(f\"np.sum(arr):       total={total_sum_np}, tiempo={elapsed_sum_np:.4f} s\")\n"
   ]
  },
  {
   "cell_type": "markdown",
   "id": "9e266825-1703-4c43-9261-1f4e0cd190e9",
   "metadata": {},
   "source": [
    "### 3.2 c) Análisis de resultados\n",
    "\n",
    "Al ejecutar los tres procedimientos de suma en el rango \\[0, 10<sup>6</sup>), hemos obtenido estos tiempos aproximados:\n",
    "\n",
    "| Método                              | Tiempo        |\n",
    "|-------------------------------------|---------------|\n",
    "| 1. Código original (`reduc_operation`)       | 0.27 s        |\n",
    "| 2.a. Bucle `for` sobre lista        | 0.54 s        |\n",
    "| 2.b. `sum(lst)`                     | 0.03 s        |\n",
    "| 3.a. Bucle `for` sobre `ndarray`    | 1.00 s        |\n",
    "| 3.b. `np.sum(arr)`                  | 0.0025 s       |\n",
    "\n",
    "**Puntos clave:**\n",
    "\n",
    "1. **Código original vs. bucle sobre lista**  \n",
    "   - Ambos usan un bucle en Python puro para acumular elemento a elemento.  \n",
    "   - La función genérica `reduc_operation` sobre `range(a)` tarda ~0.27 s, mientras que la suma manual de `list(range(n))` tarda ~0.54 s.  \n",
    "   - La diferencia se debe al coste de creación de la lista completa antes de iterar y a la llamada a la función.\n",
    "\n",
    "2. **`sum(lst)`**  \n",
    "   - Implementada en C dentro del intérprete de Python, evita el bucle en Python y recorre la lista con código nativo.  \n",
    "   - Mejora el rendimiento en un orden de magnitud: de ~0.44 s a ~0.03 s.\n",
    "\n",
    "3. **Bucle `for` sobre `ndarray`**  \n",
    "   - Aunque el tipo de datos cambia, se sigue iterando en Python elemento a elemento, lo que introduce *más* overhead que con listas, porque cada acceso a un elemento de `ndarray` implica comprobaciones adicionales de NumPy.  \n",
    "   - Por eso la suma manual sobre `arr = np.array(lst)` es aún más lenta (~0.95 s).\n",
    "\n",
    "4. **`np.sum(arr)`**  \n",
    "   - Ejecuta la operación de reducción íntegramente en C (y optimizado con vectores SIMD si el hardware lo permite), accediendo a memoria contigua.  \n",
    "   - Resultado: la ejecución es ultrarrápida (~0.003 s), casi 100× más rápida que `sum(lst)` y ~300× más rápida que el bucle Python sobre `ndarray`.\n",
    "\n",
    "---\n",
    "\n",
    "**Conclusión:**  \n",
    "- El principal cuello de botella en Python puro es el bucle interpretado elemento a elemento.  \n",
    "- Aprovechar implementaciones nativas (ya sea `sum()` para listas o `np.sum()` para arrays) traslada la carga al código compilado en C, consiguiendo enormes mejoras de rendimiento.\n"
   ]
  },
  {
   "cell_type": "markdown",
   "id": "75da305b-7970-4c1e-9b8a-22433061dfe0",
   "metadata": {},
   "source": [
    "##### Ejercicio 3.3"
   ]
  },
  {
   "cell_type": "code",
   "execution_count": 14,
   "id": "ed420ab8-e982-43a1-a8c2-7c85ff3439f4",
   "metadata": {},
   "outputs": [
    {
     "name": "stdout",
     "output_type": "stream",
     "text": [
      "Pure Python loop:   time=0.6924 s, result=499999500000\n",
      "Numpy sum:          time=0.0019 s, result=499999500000\n",
      "Numba Python loop:  time=0.0023 s, result=499999500000\n",
      "Numba Numpy sum:    time=0.0015 s, result=499999500000\n"
     ]
    }
   ],
   "source": [
    "# — Ejercicio 3.3 a) comparativa sin y con Numba —  \n",
    "import time\n",
    "import numpy as np\n",
    "from numba import njit\n",
    "\n",
    "# Convertir la lista existente a un array de NumPy\n",
    "arr = np.array(lst)\n",
    "\n",
    "# 1. Versión sin Numba: bucle Python\n",
    "def reduce_py(a):\n",
    "    total = 0\n",
    "    for x in a:\n",
    "        total += x\n",
    "    return total\n",
    "\n",
    "# 2. Versión sin Numba: np.sum\n",
    "def reduce_np(a):\n",
    "    return np.sum(a)\n",
    "\n",
    "# 3. Versión Numba: bucle Python compilado\n",
    "@njit\n",
    "def reduce_numba(a):\n",
    "    total = 0\n",
    "    for x in a:\n",
    "        total += x\n",
    "    return total\n",
    "\n",
    "# 4. Versión Numba: np.sum compilado\n",
    "@njit\n",
    "def sum_numba(a):\n",
    "    return np.sum(a)\n",
    "\n",
    "# Compilar funciones Numba (primera llamada no medida)\n",
    "reduce_numba(arr)\n",
    "sum_numba(arr)\n",
    "\n",
    "# Medir tiempos\n",
    "start = time.time()\n",
    "res_py = reduce_py(arr)\n",
    "t_py = time.time() - start\n",
    "\n",
    "start = time.time()\n",
    "res_np = reduce_np(arr)\n",
    "t_np = time.time() - start\n",
    "\n",
    "start = time.time()\n",
    "res_nb = reduce_numba(arr)\n",
    "t_nb = time.time() - start\n",
    "\n",
    "start = time.time()\n",
    "res_nb_sum = sum_numba(arr)\n",
    "t_nb_sum = time.time() - start\n",
    "\n",
    "# Mostrar resultados\n",
    "print(f\"Pure Python loop:   time={t_py:.4f} s, result={res_py}\")\n",
    "print(f\"Numpy sum:          time={t_np:.4f} s, result={res_np}\")\n",
    "print(f\"Numba Python loop:  time={t_nb:.4f} s, result={res_nb}\")\n",
    "print(f\"Numba Numpy sum:    time={t_nb_sum:.4f} s, result={res_nb_sum}\")\n"
   ]
  },
  {
   "cell_type": "markdown",
   "id": "c9627a99-fb27-4275-9faf-15a40636f653",
   "metadata": {},
   "source": [
    "### 3.3 b) Análisis de resultados con Numba\n",
    "\n",
    "Al comparar los cuatro métodos de reducción en el rango \\[0, 10⁶) obtenemos:\n",
    "\n",
    "| Método                  | Tiempo     |\n",
    "|-------------------------|------------|\n",
    "| Pure Python loop        | 0.6924 s   |\n",
    "| NumPy `sum`             | 0.0019 s   |\n",
    "| Numba Python loop       | 0.0023 s   |\n",
    "| Numba NumPy `sum`       | 0.0015 s   |\n",
    "\n",
    "**Observaciones principales:**\n",
    "\n",
    "- **Bucle Python puro (0.6924 s)**  \n",
    "  Recorrer elemento a elemento en Python incurre en un alto overhead interpretado.\n",
    "\n",
    "- **`np.sum(arr)` sin Numba (0.0019 s)**  \n",
    "  Implementación en C que opera sobre memoria contigua, es ~365× más rápida que el bucle puro.\n",
    "\n",
    "- **Bucle Python compilado con Numba (0.0023 s)**  \n",
    "  Tras la compilación JIT, la versión `reduce_numba(arr)` convierte el bucle Python en código máquina optimizado.  \n",
    "  Aunque sigue siendo un bucle explícito, ejecuta casi al mismo nivel que `np.sum`, demostrando la potencia de Numba para acelerar código Python puro.\n",
    "\n",
    "- **`np.sum(arr)` compilado con Numba (0.0015 s)**  \n",
    "  Al compilar la llamada a la rutina de NumPy, obtenemos un pequeño extra de velocidad respecto a la versión no compilada.  \n",
    "  Esto sugiere que Numba inyecta optimizaciones adicionales en el bucle interno de la suma.\n",
    "\n",
    "---\n",
    "\n",
    "**Conclusión:**  \n",
    "Numba permite llevar bucles escritos en Python a un rendimiento cercano al de código vectorizado en C, eliminando el cuello de botella del intérprete. Para operaciones simples sobre arrays, `np.sum` sigue siendo la opción más directa, pero `@njit` es una gran herramienta cuando se requieren bucles más complejos o lógica personalizada que NumPy no cubre nativamente.  \n"
   ]
  },
  {
   "cell_type": "code",
   "execution_count": null,
   "id": "93214a3f-5fa1-4897-875b-4b263ae8826d",
   "metadata": {},
   "outputs": [],
   "source": []
  }
 ],
 "metadata": {
  "kernelspec": {
   "display_name": "Python 3 (ipykernel)",
   "language": "python",
   "name": "python3"
  },
  "language_info": {
   "codemirror_mode": {
    "name": "ipython",
    "version": 3
   },
   "file_extension": ".py",
   "mimetype": "text/x-python",
   "name": "python",
   "nbconvert_exporter": "python",
   "pygments_lexer": "ipython3",
   "version": "3.10.9"
  }
 },
 "nbformat": 4,
 "nbformat_minor": 5
}
